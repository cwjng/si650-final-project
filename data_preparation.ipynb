{
 "cells": [
  {
   "cell_type": "code",
   "execution_count": 47,
   "id": "3a01e716-0965-4669-abe9-6ed1931bf1f1",
   "metadata": {},
   "outputs": [],
   "source": [
    "import pandas as pd\n",
    "import numpy as np\n",
    "import ast"
   ]
  },
  {
   "cell_type": "code",
   "execution_count": 48,
   "id": "485777e5-7d4f-4f09-b461-a39cebbeddc4",
   "metadata": {},
   "outputs": [],
   "source": [
    "full_df = pd.read_csv('full_dataset.csv')"
   ]
  },
  {
   "cell_type": "code",
   "execution_count": 49,
   "id": "37dc27c7-fcc7-491d-8bd2-26c6ac39d880",
   "metadata": {},
   "outputs": [],
   "source": [
    "clean_df = full_df.dropna().head(50000)\n",
    "clean_df = clean_df.drop(columns=[\"Unnamed: 0\"])\n",
    "clean_df.to_csv(\"project_data.csv\", index=False)"
   ]
  },
  {
   "cell_type": "code",
   "execution_count": 50,
   "id": "0f0744cc-0957-444f-a9a9-ad7277027c74",
   "metadata": {},
   "outputs": [
    {
     "name": "stderr",
     "output_type": "stream",
     "text": [
      "/tmp/ipykernel_3273517/2749866470.py:9: FutureWarning: DataFrame.applymap has been deprecated. Use DataFrame.map instead.\n",
      "  clean_df = clean_df.applymap(try_literal_eval)\n"
     ]
    }
   ],
   "source": [
    "def try_literal_eval(val):\n",
    "    if isinstance(val, str):\n",
    "        try:\n",
    "            return ast.literal_eval(val)\n",
    "        except Exception:\n",
    "            return val\n",
    "    return val\n",
    "\n",
    "clean_df = clean_df.applymap(try_literal_eval)"
   ]
  },
  {
   "cell_type": "code",
   "execution_count": 51,
   "id": "60fe92ac-bcd2-4f6e-bc74-27e848709313",
   "metadata": {},
   "outputs": [],
   "source": [
    "clean_df[\"ingredients\"] = clean_df[\"ingredients\"].apply(lambda x: \" \".join(x))\n",
    "clean_df[\"directions\"] = clean_df[\"directions\"].apply(lambda x: \" \".join(x))\n",
    "clean_df[\"NER\"] = clean_df[\"NER\"].apply(lambda x: \", \".join(x))"
   ]
  },
  {
   "cell_type": "code",
   "execution_count": 52,
   "id": "cfa31220-6491-4a2a-9840-e9b369a7af3f",
   "metadata": {},
   "outputs": [],
   "source": [
    "clean_df[\"full_doc\"] = clean_df.apply(lambda x: \"; \".join([x[\"title\"],x[\"NER\"], x[\"ingredients\"], x[\"directions\"]]), axis = 1)"
   ]
  },
  {
   "cell_type": "code",
   "execution_count": 53,
   "id": "867398d2-7663-401b-90eb-ce1ed31697ae",
   "metadata": {},
   "outputs": [],
   "source": [
    "clean_df.to_csv(\"project_data.csv\", index=False)"
   ]
  }
 ],
 "metadata": {
  "kernelspec": {
   "display_name": "Python (hw2)",
   "language": "python",
   "name": "hw2"
  },
  "language_info": {
   "codemirror_mode": {
    "name": "ipython",
    "version": 3
   },
   "file_extension": ".py",
   "mimetype": "text/x-python",
   "name": "python",
   "nbconvert_exporter": "python",
   "pygments_lexer": "ipython3",
   "version": "3.11.13"
  }
 },
 "nbformat": 4,
 "nbformat_minor": 5
}
